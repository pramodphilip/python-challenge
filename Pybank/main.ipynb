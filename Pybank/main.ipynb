{
 "cells": [
  {
   "cell_type": "code",
   "execution_count": 48,
   "metadata": {},
   "outputs": [],
   "source": [
    "#Pybank\n",
    "#Name:Pramod Philip\n",
    "#Creates a Python script that analyzes the records to calculate each of the following:\n",
    "#Outputs the total amount of \"Profit/Losses\" over the entire period\n",
    "#Outputs the net total amount of \"Profit/Losses\" over the entire period\n",
    "#Calculates the change in \"Profit/Losses\" over the entire period, then find the average of those changes\n",
    "#Outputs the greatest increase in profits (date and amount) over the entire period\n",
    "#Determines the greatest decrease in losses (date and amount) over the entire period\n",
    "\n",
    "#Imports the os and csv libraries\n",
    "import os\n",
    "import csv\n",
    "\n",
    "output_path = os.path.join('Resources/budget_data.csv')\n",
    "\n",
    "with open(output_path,mode='r') as csvfile:\n",
    "\tcsv_read_in = csv.reader(csvfile, delimiter=',')\n",
    "\tnext(csv_read_in)\n",
    "\tbudget_list = list(zip(*csv_read_in))\n",
    "\t#Total number of months\n",
    "\tmonth_count = len(budget_list[0])"
   ]
  },
  {
   "cell_type": "code",
   "execution_count": 47,
   "metadata": {},
   "outputs": [],
   "source": [
    "#Net total amount of \"Profit/Losses\" over the entire period\n",
    "net_total = 0\n",
    "    \n",
    "for row in budget_list[1]:\n",
    "    net_total = net_total + int(row)"
   ]
  },
  {
   "cell_type": "code",
   "execution_count": null,
   "metadata": {},
   "outputs": [],
   "source": [
    "change = []\n",
    "for x in range(month_count-1):\n",
    "    differ = int(budget_list[1][x+1]) - int(budget_list[1][x])\n",
    "    change.append(differ)\n",
    "\n",
    "avg_change = sum(change)/(month_count-1)\n"
   ]
  },
  {
   "cell_type": "code",
   "execution_count": 61,
   "metadata": {},
   "outputs": [
    {
     "name": "stdout",
     "output_type": "stream",
     "text": [
      "Feb-2012 1926159\n",
      "Sep-2013 -2196167\n"
     ]
    }
   ],
   "source": [
    "great_prof = 0\n",
    "great_loss = 0\n",
    "month_prof = ''\n",
    "month_loss = ''\n",
    "\n",
    "for x in range(len(change)):\n",
    "    if int(change[x]) > great_prof:\n",
    "        great_prof = change[x]\n",
    "        month_prof = budget_list[0][x+1] \n",
    "        \n",
    "        \n",
    "    elif int(change[x]) < great_loss:\n",
    "        great_loss = change[x]\n",
    "        month_loss = budget_list[0][x+1]     "
   ]
  },
  {
   "cell_type": "code",
   "execution_count": 67,
   "metadata": {},
   "outputs": [
    {
     "name": "stdout",
     "output_type": "stream",
     "text": [
      "Financial Analysis\n",
      "___________________\n",
      "\n",
      "Total Months: 86\n",
      "Total: $38382578\n",
      "Average Change: $-2315.12\n",
      "Greatest Increase In Profits: Feb-2012 ($1926159)\n",
      "Greatest Decrease In Profits: Sep-2013 ($-2196167)\n"
     ]
    }
   ],
   "source": [
    "n = 2\n",
    "print('Financial Analysis')\n",
    "print('___________________')\n",
    "print('')\n",
    "print(f'Total Months: {month_count}')\n",
    "print(f'Total: ${net_total}')\n",
    "print(f'Average Change: ${avg_change:.{n}f}')\n",
    "print(f'Greatest Increase In Profits: {month_prof} (${great_prof})')\n",
    "print(f'Greatest Decrease In Profits: {month_loss} (${great_loss})')"
   ]
  },
  {
   "cell_type": "code",
   "execution_count": null,
   "metadata": {},
   "outputs": [],
   "source": [
    "import sys\n",
    "sys."
   ]
  }
 ],
 "metadata": {
  "kernelspec": {
   "display_name": "Python 3",
   "language": "python",
   "name": "python3"
  },
  "language_info": {
   "codemirror_mode": {
    "name": "ipython",
    "version": 3
   },
   "file_extension": ".py",
   "mimetype": "text/x-python",
   "name": "python",
   "nbconvert_exporter": "python",
   "pygments_lexer": "ipython3",
   "version": "3.8.5"
  }
 },
 "nbformat": 4,
 "nbformat_minor": 4
}
