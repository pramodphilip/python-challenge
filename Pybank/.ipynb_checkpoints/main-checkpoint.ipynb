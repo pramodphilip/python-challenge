{
 "cells": [
  {
   "cell_type": "code",
   "execution_count": 2,
   "metadata": {},
   "outputs": [],
   "source": [
    "#Pybank\n",
    "#Name:Pramod Philip\n",
    "#Creates a Python script that analyzes the records to calculate each of the following:\n",
    "#Outputs the total amount of \"Profit/Losses\" over the entire period\n",
    "#Outputs the net total amount of \"Profit/Losses\" over the entire period\n",
    "#Calculates the change in \"Profit/Losses\" over the entire period, then find the average of those changes\n",
    "#Outputs the greatest increase in profits (date and amount) over the entire period\n",
    "#Determines the greatest decrease in losses (date and amount) over the entire period\n",
    "\n",
    "#Imports the os and csv libraries\n",
    "import os\n",
    "import csv\n",
    "\n",
    "#Provides output path for csv file\n",
    "output_path = os.path.join('Resources/budget_data.csv')\n",
    "\n",
    "#Opens the csvfile in read mode\n",
    "with open(output_path,mode='r') as csvfile:\n",
    "    #Creates object based on csvfile\n",
    "\tcsv_read_in = csv.reader(csvfile, delimiter=',')\n",
    "    #Skips header\n",
    "\tnext(csv_read_in)\n",
    "    #Converts the object csv_read_in to a list\n",
    "\tbudget_list = list(zip(*csv_read_in))\n",
    "\t#Total number of months\n",
    "\tmonth_count = len(budget_list[0])"
   ]
  },
  {
   "cell_type": "code",
   "execution_count": 3,
   "metadata": {},
   "outputs": [],
   "source": [
    "#Net total amount of \"Profit/Losses\" over the entire period\n",
    "net_total = 0\n",
    "\n",
    "#Loops through the Profit/Loss column\n",
    "for row in budget_list[1]:\n",
    "    #Adds to the net total each row\n",
    "    net_total = net_total + int(row)"
   ]
  },
  {
   "cell_type": "code",
   "execution_count": 4,
   "metadata": {},
   "outputs": [],
   "source": [
    "#Initializes the Profit/Losses change list\n",
    "change = []\n",
    "\n",
    "#Loops through length of Profit/Losses column\n",
    "#until second to last index\n",
    "for x in range(month_count-1):\n",
    "    #Calculates the difference between\n",
    "    #the current profit/loss and the next\n",
    "    #profit/loss\n",
    "    differ = int(budget_list[1][x+1]) - int(budget_list[1][x])\n",
    "    #Appends the difference to the change list\n",
    "    change.append(differ)\n",
    "\n",
    "#Calculates the average change\n",
    "avg_change = sum(change)/(month_count-1)\n"
   ]
  },
  {
   "cell_type": "code",
   "execution_count": 5,
   "metadata": {},
   "outputs": [],
   "source": [
    "#Greatest profit increase variable\n",
    "great_prof = 0\n",
    "#Greatest profit decrease variable\n",
    "great_loss = 0\n",
    "#Month of the greatest profit increase variable\n",
    "month_prof = ''\n",
    "#Month of the greatest profit decrease variable\n",
    "month_loss = ''\n",
    "\n",
    "#Loops through length of the change list\n",
    "for x in range(len(change)):\n",
    "    #Checks if the current change list value\n",
    "    #is greater than great_prof\n",
    "    if int(change[x]) > great_prof:\n",
    "        #If yes, assigns the current change list\n",
    "        #value to great_prof\n",
    "        great_prof = change[x]\n",
    "        #If yes, assigns the corresponding month\n",
    "        #to the current change list value\n",
    "        month_prof = budget_list[0][x+1] \n",
    "        \n",
    "    #Checks if the current change list value\n",
    "    #is less than great_loss\n",
    "    elif int(change[x]) < great_loss:\n",
    "        #If yes, assigns the current list\n",
    "        #value to great_loss\n",
    "        great_loss = change[x]\n",
    "        #If yes, assigns the corresponding month\n",
    "        #to the current change list value\n",
    "        month_loss = budget_list[0][x+1]     "
   ]
  },
  {
   "cell_type": "code",
   "execution_count": 6,
   "metadata": {},
   "outputs": [
    {
     "name": "stdout",
     "output_type": "stream",
     "text": [
      "Financial Analysis\n",
      "___________________\n",
      "\n",
      "Total Months: 86\n",
      "Total: $38382578\n",
      "Average Change: $-2315.12\n",
      "Greatest Increase In Profits: Feb-2012 ($1926159)\n",
      "Greatest Decrease In Profits: Sep-2013 ($-2196167)\n"
     ]
    }
   ],
   "source": [
    "#Establishes the precision for average change\n",
    "n = 2\n",
    "#Prints the financial fnalysis for the company\n",
    "print('Financial Analysis')\n",
    "print('___________________')\n",
    "print('')\n",
    "print(f'Total Months: {month_count}')\n",
    "print(f'Total: ${net_total}')\n",
    "print(f'Average Change: ${avg_change:.{n}f}')\n",
    "print(f'Greatest Increase In Profits: {month_prof} (${great_prof})')\n",
    "print(f'Greatest Decrease In Profits: {month_loss} (${great_loss})')"
   ]
  },
  {
   "cell_type": "code",
   "execution_count": 7,
   "metadata": {},
   "outputs": [
    {
     "ename": "NameError",
     "evalue": "name 'close' is not defined",
     "output_type": "error",
     "traceback": [
      "\u001b[0;31m---------------------------------------------------------------------------\u001b[0m",
      "\u001b[0;31mNameError\u001b[0m                                 Traceback (most recent call last)",
      "\u001b[0;32m<ipython-input-7-e6be60ec626d>\u001b[0m in \u001b[0;36m<module>\u001b[0;34m\u001b[0m\n\u001b[1;32m     12\u001b[0m \u001b[0mprint\u001b[0m\u001b[0;34m(\u001b[0m\u001b[0;34mf'Greatest Decrease In Profits: {month_loss} (${great_loss})'\u001b[0m\u001b[0;34m)\u001b[0m\u001b[0;34m\u001b[0m\u001b[0;34m\u001b[0m\u001b[0m\n\u001b[1;32m     13\u001b[0m \u001b[0;34m\u001b[0m\u001b[0m\n\u001b[0;32m---> 14\u001b[0;31m \u001b[0msys\u001b[0m\u001b[0;34m.\u001b[0m\u001b[0mstdout\u001b[0m \u001b[0;34m=\u001b[0m \u001b[0mclose\u001b[0m\u001b[0;34m(\u001b[0m\u001b[0;34m)\u001b[0m\u001b[0;34m\u001b[0m\u001b[0;34m\u001b[0m\u001b[0m\n\u001b[0m",
      "\u001b[0;31mNameError\u001b[0m: name 'close' is not defined"
     ]
    }
   ],
   "source": [
    "#Prints the financial analysis to a .txt file\n",
    "import sys\n",
    "sys.stdout = open('main_Pybank.txt','w')\n",
    "\n",
    "print('Financial Analysis')\n",
    "print('___________________')\n",
    "print('')\n",
    "print(f'Total Months: {month_count}')\n",
    "print(f'Total: ${net_total}')\n",
    "print(f'Average Change: ${avg_change:.{n}f}')\n",
    "print(f'Greatest Increase In Profits: {month_prof} (${great_prof})')\n",
    "print(f'Greatest Decrease In Profits: {month_loss} (${great_loss})')\n",
    "\n",
    "sys.stdout.close()"
   ]
  },
  {
   "cell_type": "code",
   "execution_count": null,
   "metadata": {},
   "outputs": [],
   "source": []
  }
 ],
 "metadata": {
  "kernelspec": {
   "display_name": "Python 3",
   "language": "python",
   "name": "python3"
  },
  "language_info": {
   "codemirror_mode": {
    "name": "ipython",
    "version": 3
   },
   "file_extension": ".py",
   "mimetype": "text/x-python",
   "name": "python",
   "nbconvert_exporter": "python",
   "pygments_lexer": "ipython3",
   "version": "3.8.5"
  }
 },
 "nbformat": 4,
 "nbformat_minor": 4
}
