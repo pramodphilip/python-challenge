{
 "cells": [
  {
   "cell_type": "code",
   "execution_count": 5,
   "metadata": {},
   "outputs": [],
   "source": [
    "#Imports the os and csv modules\n",
    "import os, csv\n",
    "\n",
    "#Provides output path for csv file\n",
    "output_path = os.path.join('Resources/election_data.csv')\n",
    "#Opens the csv file in read mode\n",
    "with open(output_path,mode='r') as csvfile:\n",
    "    #Creates object based on csv file\n",
    "    csv_read_in = csv.reader(csvfile,delimiter=',')\n",
    "    #Skips header\n",
    "    next(csv_read_in)\n",
    "    #Converts object csv_read_in to a list\n",
    "    elec_list = list(zip(*csv_read_in))\n",
    "    #Equates the total number of votes to be the length of the columns\n",
    "    #in the file\n",
    "    vote_total = len(elec_list[0])"
   ]
  },
  {
   "cell_type": "code",
   "execution_count": 6,
   "metadata": {},
   "outputs": [],
   "source": [
    "#Creates an empty list to store candidate names\n",
    "candidate = [elec_list[2][0]]\n",
    "\n",
    "#Loops through candidate column up until second to last row\n",
    "for x in range(vote_total-1):\n",
    "    #Checks to see if the names in current and next column are different\n",
    "    if elec_list[2][x] != elec_list[2][x+1]:\n",
    "        #If different, it then determines whether or not the candidate is inside\n",
    "        #the candidate list\n",
    "        if elec_list[2][x+1] not in candidate:\n",
    "            #If the candidate is not in the candidate list,\n",
    "            #the candidate's name is appened to the candidate list\n",
    "            candidate.append(elec_list[2][x+1])"
   ]
  },
  {
   "cell_type": "code",
   "execution_count": 7,
   "metadata": {},
   "outputs": [],
   "source": [
    "#Establishes a new list for counting the number of votes\n",
    "#that each candidate received\n",
    "cand_vote = []\n",
    "\n",
    "#Loops through each row in candidate\n",
    "for row in candidate:\n",
    "    #Appends a 0 to each row to initialize the cand_vote list\n",
    "    cand_vote.append(0)\n",
    "\n",
    "#Loops through length of candidate column until the last row\n",
    "for x in range(vote_total):\n",
    "    #Separate loop looping until last column in candidate list\n",
    "    for y in range(len(candidate)):\n",
    "        #Checks if the current candidate name matches that in the candidate list\n",
    "        if elec_list[2][x] == candidate[y]:\n",
    "            #If yes, adds one vote the respective candidate in cand_vote\n",
    "            cand_vote[y] = cand_vote[y] + 1"
   ]
  },
  {
   "cell_type": "code",
   "execution_count": 8,
   "metadata": {},
   "outputs": [],
   "source": [
    "#Creates list for the percentage of votes each\n",
    "#candidate received\n",
    "per_vote = []\n",
    "\n",
    "#Loops through the length of of the cand_vote list\n",
    "for x in range(len(cand_vote)):\n",
    "    #Each candidate's percentage of votes is\n",
    "    #appended to the per_vote list\n",
    "    per_vote.append((cand_vote[x]/vote_total)*100)"
   ]
  },
  {
   "cell_type": "code",
   "execution_count": 9,
   "metadata": {},
   "outputs": [],
   "source": [
    "#Initializes the winning vote percentage variable\n",
    "win_vote = 0\n",
    "\n",
    "#Loops through the range of the per_vote list\n",
    "for z in range(len(per_vote)):\n",
    "    #Checks if the current percentage vote value\n",
    "    #is larger than the current winning vote percentage\n",
    "    #variable\n",
    "    if per_vote[z] > win_vote:\n",
    "        #If yes, the new winning vote percentage is\n",
    "        #the current vote percentage\n",
    "        win_vote = per_vote[z]\n",
    "        #The corresponding candidate name of the \n",
    "        #new winning percentage is stored in winner\n",
    "        winner = candidate[z]\n",
    "\n",
    "#The percentage vote is converted to a string that\n",
    "#provides the correct amount of accuracy for each vote\n",
    "per_vote = ['%.3f' % elem for elem in per_vote]"
   ]
  },
  {
   "cell_type": "code",
   "execution_count": 10,
   "metadata": {},
   "outputs": [
    {
     "name": "stdout",
     "output_type": "stream",
     "text": [
      "Election Results\n",
      "___________________\n",
      "\n",
      "Total Votes: 3521001\n",
      "___________________\n",
      "\n",
      "Khan: 63.000% (2218231)\n",
      "Correy: 20.000% (704200)\n",
      "Li: 14.000% (492940)\n",
      "O'Tooley: 3.000% (105630)\n",
      "___________________\n",
      "\n",
      "Winner: Khan\n",
      "___________________\n"
     ]
    }
   ],
   "source": [
    "#Prints out the election results\n",
    "print('Election Results')\n",
    "print('___________________')\n",
    "print('')\n",
    "print(f'Total Votes: {vote_total}')\n",
    "print('___________________')\n",
    "print('')\n",
    "#Loops through length of the candidate list\n",
    "for x in range(len(candidate)):\n",
    "    #Prints the candidate name, vote percentage\n",
    "    #and the number of votes that candidate received\n",
    "    print(f'{candidate[x]}: {per_vote[x]}% ({cand_vote[x]})')\n",
    "print('___________________')\n",
    "print('')\n",
    "print(f'Winner: {winner}')\n",
    "print('___________________')"
   ]
  },
  {
   "cell_type": "code",
   "execution_count": null,
   "metadata": {},
   "outputs": [],
   "source": [
    "#Exports the election results to a .txt file\n",
    "import sys\n",
    "sys.stdout = open('main_PyPoll.txt','w')\n",
    "\n",
    "#Prints remaining analysis\n",
    "print('Election Results')\n",
    "print('___________________')\n",
    "print('')\n",
    "print(f'Total Votes: {vote_total}')\n",
    "print('___________________')\n",
    "print('')\n",
    "for x in range(len(candidate)):\n",
    "    print(f'{candidate[x]}: {per_vote[x]}% ({cand_vote[x]})')\n",
    "print('___________________')\n",
    "print('')\n",
    "print(f'Winner: {winner}')\n",
    "print('___________________')\n",
    "\n",
    "sys.stdout.close()"
   ]
  },
  {
   "cell_type": "code",
   "execution_count": null,
   "metadata": {},
   "outputs": [],
   "source": []
  },
  {
   "cell_type": "code",
   "execution_count": null,
   "metadata": {},
   "outputs": [],
   "source": []
  }
 ],
 "metadata": {
  "kernelspec": {
   "display_name": "Python 3",
   "language": "python",
   "name": "python3"
  },
  "language_info": {
   "codemirror_mode": {
    "name": "ipython",
    "version": 3
   },
   "file_extension": ".py",
   "mimetype": "text/x-python",
   "name": "python",
   "nbconvert_exporter": "python",
   "pygments_lexer": "ipython3",
   "version": "3.8.5"
  }
 },
 "nbformat": 4,
 "nbformat_minor": 4
}
